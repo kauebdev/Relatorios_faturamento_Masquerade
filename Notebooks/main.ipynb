{
 "cells": [
  {
   "cell_type": "markdown",
   "id": "bc2328bc",
   "metadata": {},
   "source": [
    "# libs & configs"
   ]
  },
  {
   "cell_type": "code",
   "execution_count": 1,
   "id": "8c643a4f",
   "metadata": {},
   "outputs": [],
   "source": [
    "from rapidfuzz import process, fuzz\n",
    "import unidecode\n",
    "import re\n",
    "import calendar\n",
    "import pandas as pd\n",
    "import xlsxwriter\n",
    "from openpyxl import load_workbook\n",
    "import os\n",
    "import sys\n",
    "from pandas import to_datetime as pdDatetime\n",
    "from datetime import datetime\n",
    "from dateutil.relativedelta import relativedelta\n",
    "from pandas import to_numeric as pdNumeric\n",
    "from collections import defaultdict\n"
   ]
  },
  {
   "cell_type": "code",
   "execution_count": 6,
   "id": "455a4b0d",
   "metadata": {},
   "outputs": [
    {
     "name": "stdout",
     "output_type": "stream",
     "text": [
      "0\n"
     ]
    }
   ],
   "source": [
    "x = [1,2]\n",
    "print(x.index(x[0]))"
   ]
  },
  {
   "cell_type": "code",
   "execution_count": 2,
   "id": "69d7e4bf",
   "metadata": {},
   "outputs": [],
   "source": [
    "# pega o diretorio acima de noteboosks, ou seja o do projeto principal\n",
    "# current_dir = os.path.dirname(os.path.abspath(__file__)) - # isso nao funciona no jupyter , pois o __file__ e exclusivo de scrpit py\n",
    "current_dir = os.getcwd()\n",
    "\n",
    "# muda o diretorio para o projeto --\n",
    "# isso é necessario para que o python consiga importar os modulos do projeto\n",
    "# caso contrario, ele nao consegue achar os modulos\n",
    "project_root = os.path.join(current_dir, '..')\n",
    "sys.path.append(project_root)"
   ]
  },
  {
   "cell_type": "code",
   "execution_count": 3,
   "id": "6894c4c2",
   "metadata": {},
   "outputs": [],
   "source": [
    "from Scripts.functions import GetAno, mapear_vendedores_por_similaridade\n"
   ]
  }
 ],
 "metadata": {
  "kernelspec": {
   "display_name": "Python 3",
   "language": "python",
   "name": "python3"
  },
  "language_info": {
   "codemirror_mode": {
    "name": "ipython",
    "version": 3
   },
   "file_extension": ".py",
   "mimetype": "text/x-python",
   "name": "python",
   "nbconvert_exporter": "python",
   "pygments_lexer": "ipython3",
   "version": "3.12.4"
  }
 },
 "nbformat": 4,
 "nbformat_minor": 5
}
