{
 "cells": [
  {
   "cell_type": "markdown",
   "id": "bc2328bc",
   "metadata": {},
   "source": [
    "# libs & configs"
   ]
  },
  {
   "cell_type": "code",
   "execution_count": 43,
   "id": "8c643a4f",
   "metadata": {},
   "outputs": [],
   "source": [
    "\n",
    "import pandas as pd\n",
    "from pandas import to_datetime as pdDatetime\n",
    "from datetime import datetime\n",
    "from pandas import to_numeric as pdNumeric\n",
    "import os\n",
    "import sys\n",
    "from collections import defaultdict"
   ]
  },
  {
   "cell_type": "code",
   "execution_count": 44,
   "id": "69d7e4bf",
   "metadata": {},
   "outputs": [],
   "source": [
    "# pega o diretorio acima de noteboosks, ou seja o do projeto principal\n",
    "# current_dir = os.path.dirname(os.path.abspath(__file__)) - # isso nao funciona no jupyter , pois o __file__ e exclusivo de scrpit py\n",
    "current_dir = os.getcwd()\n",
    "\n",
    "# muda o diretorio para o projeto --\n",
    "# isso é necessario para que o python consiga importar os modulos do projeto\n",
    "# caso contrario, ele nao consegue achar os modulos\n",
    "project_root = os.path.join(current_dir, '..')\n",
    "sys.path.append(project_root)"
   ]
  },
  {
   "cell_type": "code",
   "execution_count": 45,
   "id": "6894c4c2",
   "metadata": {},
   "outputs": [],
   "source": [
    "from Scripts.functions import GetAno"
   ]
  },
  {
   "cell_type": "markdown",
   "id": "6cf1bb9e",
   "metadata": {},
   "source": [
    "# 00 - juntando das informações infosfot x Bling"
   ]
  },
  {
   "cell_type": "markdown",
   "id": "9f078e6e",
   "metadata": {},
   "source": [
    "## clientes °"
   ]
  },
  {
   "cell_type": "code",
   "execution_count": 54,
   "id": "be9ff34c",
   "metadata": {},
   "outputs": [],
   "source": [
    "# -- 1 lendo arquivos\n",
    "df_clients_bling = pd.read_excel(r\"..\\Data\\01-01-23_08-07-25\\sh-clientes_bling.xlsx\")\n",
    "df_clients_infosoft = pd.read_excel(r\"..\\Data\\01-01-23_08-07-25\\sh-clientes_infosoft.xlsx\")\n",
    "\n",
    "# -- 2 - padroniza os nomes para maior facilidade\n",
    "df_clients_infosoft.rename(columns={'Cgc Cpf':'Clie Cgc Cpf'}, \n",
    "                                inplace=True)\n",
    "df_clients_bling.rename(columns={'CPF/CNPJ': 'Clie Cgc Cpf',\n",
    "                                  'Nome':'Descrição', \n",
    "                                  'Endereço': 'Endereco',\n",
    "                                  'UF':'Cd Uf', \n",
    "                                  'Cidade':'Nm Cidade', \n",
    "                                  'Bairro':'Bairro',\n",
    "                                'Cliente desde':'Dt Cadastro', \n",
    "                                'Email':'E Mail'\n",
    "                                }, inplace=True)\n",
    "\n",
    "# -- 3 - faz o full join \n",
    "df_clientes_merge = pd.merge(df_clients_infosoft,df_clients_bling,\n",
    "                                  on='Clie Cgc Cpf',   # chave primaria\n",
    "                                  how='outer',    # full outer join no pandas       \n",
    "                                  suffixes=('_infosoft','_bling')) # renomeias o sufixo das colunas (col1_df1,col2_df2...)\n",
    "\n",
    "# -- 4 - filtrando para todos os clients ou seja '''full join com priorização do df1'''\n",
    "cols = ['Descrição', 'Endereco', 'Cd Uf','Nm Cidade', 'Bairro', 'Dt Cadastro','E Mail'] # colunas que quero manter (na esquerda)\n",
    "for col in cols: \n",
    "    df_clientes_merge[col] = df_clientes_merge[f'{col}_infosoft'].combine_first(df_clientes_merge[f'{col}_bling']) # where quando a esquerda for vazia colca conteudo da direita, colca tudo na nova coluna \n",
    "    \n",
    "df_clientes_masquerade = df_clientes_merge[['Clie Cgc Cpf'] + cols] # atribui a df final o conteudo completo nas colunas novas sem esquecer da chave primeira\n",
    "\n"
   ]
  },
  {
   "cell_type": "markdown",
   "id": "e95ea452",
   "metadata": {},
   "source": [
    "## nfs ~\n"
   ]
  },
  {
   "cell_type": "code",
   "execution_count": 55,
   "id": "093e4142",
   "metadata": {},
   "outputs": [],
   "source": [
    "'''\n",
    "corrigir cod vendedores bling\n",
    "nr de pedido\n",
    "\n",
    "'''\n",
    "\n",
    "\n",
    "# -- 1 - le os arquivos\n",
    "df_nfs_bling = pd.read_excel(r\"..\\Data\\01-01-23_08-07-25\\sh-nfs_bling.xlsx\")\n",
    "df_nfs_infosoft = pd.read_excel(r\"..\\Data\\01-01-23_08-07-25\\sh-nfs_infosoft.xlsx\")\n",
    "\n",
    "\n",
    "\n",
    "# -- 2 - padroniza as colunas para evitar complicações\n",
    "df_nfs_bling.rename(columns={'Data de emissão':'Dt. emissão', \n",
    "                             'Data de Saída/Entrada':'Dt Sai Ent', \n",
    "                             'Número':'Nr. nota', \n",
    "                             'CNPJ/CPF':'Clie Cgc Cpf',\n",
    "                             'Código do vendedor':'Cd Vendedor', \n",
    "                             'Desconto':'Vl Total Desc', \n",
    "                             'Valor total líquido':'Vl Total Nota'\n",
    "                             },inplace=True)\n",
    "\n",
    "# -- 3 -  junta as duas df \n",
    "df_nfs_masquerade = pd.concat([df_nfs_bling,df_nfs_infosoft], axis=0)\n",
    "\n",
    "# -- 4 - arrumando vendedores \n",
    "\n",
    "# -- 5 - padroniza os tipos\n",
    "df_nfs_masquerade['Dt Sai Ent'] = pdDatetime(df_nfs_masquerade['Dt Sai Ent'])\n",
    "df_nfs_masquerade['Dt. emissão'] = pdDatetime(df_nfs_masquerade['Dt. emissão'])\n",
    "df_nfs_masquerade['Vl Total Desc'] = df_nfs_masquerade['Vl Total Desc'].str.replace(',','')\n",
    "df_nfs_masquerade['Vl Total Nota'] = df_nfs_masquerade['Vl Total Nota'].str.replace(',','')\n",
    "df_nfs_masquerade['Vl Total Desc'] = pdNumeric(df_nfs_masquerade['Vl Total Desc'],errors='coerce')\n",
    "df_nfs_masquerade['Vl Total Nota'] =  pdNumeric(df_nfs_masquerade['Vl Total Nota'],errors='coerce')\n",
    "df_nfs_masquerade['Nr Pedido'] =  pdNumeric(df_nfs_masquerade['Nr Pedido'],errors='coerce')"
   ]
  },
  {
   "cell_type": "markdown",
   "id": "0fc90be0",
   "metadata": {},
   "source": [
    "## pedidos"
   ]
  },
  {
   "cell_type": "code",
   "execution_count": 56,
   "id": "b17fcb68",
   "metadata": {},
   "outputs": [
    {
     "data": {
      "text/plain": [
       "Index(['Nr Pedido', 'Dt. pedido', 'Clie Cgc Cpf',\n",
       "       'Pedido de venda - Vl. desconto', 'Vl venda'],\n",
       "      dtype='object')"
      ]
     },
     "execution_count": 56,
     "metadata": {},
     "output_type": "execute_result"
    }
   ],
   "source": [
    "df_pedidos_masquerade = pd.read_excel(r\"../Data/01-01-23_08-07-25/sh-pedidos_infosoft.xlsx\")\n",
    "df_pedidos_masquerade.rename(columns={'CNPJ - CPF':'Clie Cgc Cpf', \n",
    "                                      'Vl. total': 'Vl venda',\n",
    "                                      'Nr. pedido': 'Nr Pedido'\n",
    "                                      },inplace=True)\n",
    "\n",
    "df_pedidos_masquerade['Nr Pedido'] = pdNumeric(df_pedidos_masquerade['Nr Pedido'])\n",
    "df_pedidos_masquerade.columns"
   ]
  },
  {
   "cell_type": "code",
   "execution_count": 57,
   "id": "c96d0618",
   "metadata": {},
   "outputs": [
    {
     "data": {
      "text/plain": [
       "Index(['Dt. emissão', 'Dt Sai Ent', 'Nr Pedido', 'Nr. nota', 'Clie Cgc Cpf',\n",
       "       'Cd Vendedor', 'Vl Total Desc', 'Vl Total Nota'],\n",
       "      dtype='object')"
      ]
     },
     "execution_count": 57,
     "metadata": {},
     "output_type": "execute_result"
    }
   ],
   "source": [
    "df_nfs_masquerade.columns\n"
   ]
  },
  {
   "cell_type": "markdown",
   "id": "61828234",
   "metadata": {},
   "source": [
    "## produtos"
   ]
  },
  {
   "cell_type": "code",
   "execution_count": null,
   "id": "b01be9f7",
   "metadata": {},
   "outputs": [],
   "source": []
  },
  {
   "cell_type": "markdown",
   "id": "33612ac5",
   "metadata": {},
   "source": [
    "## vendedores °"
   ]
  },
  {
   "cell_type": "code",
   "execution_count": 58,
   "id": "15c209c8",
   "metadata": {},
   "outputs": [
    {
     "data": {
      "text/html": [
       "<div>\n",
       "<style scoped>\n",
       "    .dataframe tbody tr th:only-of-type {\n",
       "        vertical-align: middle;\n",
       "    }\n",
       "\n",
       "    .dataframe tbody tr th {\n",
       "        vertical-align: top;\n",
       "    }\n",
       "\n",
       "    .dataframe thead th {\n",
       "        text-align: right;\n",
       "    }\n",
       "</style>\n",
       "<table border=\"1\" class=\"dataframe\">\n",
       "  <thead>\n",
       "    <tr style=\"text-align: right;\">\n",
       "      <th></th>\n",
       "      <th>Nm supervisor</th>\n",
       "      <th>Cd supervisor</th>\n",
       "      <th>Cd Vendedor</th>\n",
       "      <th>Nm Vendedor</th>\n",
       "      <th>Endereco</th>\n",
       "      <th>Cd Uf</th>\n",
       "      <th>Ds Regiao</th>\n",
       "      <th>Bairro</th>\n",
       "      <th>Dt Cadastro</th>\n",
       "      <th>E Mail</th>\n",
       "    </tr>\n",
       "  </thead>\n",
       "  <tbody>\n",
       "    <tr>\n",
       "      <th>1</th>\n",
       "      <td>ALDO</td>\n",
       "      <td>1.0</td>\n",
       "      <td>1</td>\n",
       "      <td>ALDO</td>\n",
       "      <td>NaN</td>\n",
       "      <td>NaN</td>\n",
       "      <td>NORTE</td>\n",
       "      <td>NaN</td>\n",
       "      <td>NaT</td>\n",
       "      <td>acz7@terra.com.br</td>\n",
       "    </tr>\n",
       "    <tr>\n",
       "      <th>4</th>\n",
       "      <td>FLAVIO E LILIAN</td>\n",
       "      <td>2.0</td>\n",
       "      <td>2</td>\n",
       "      <td>FLAVIO E LILIAN</td>\n",
       "      <td>NaN</td>\n",
       "      <td>NaN</td>\n",
       "      <td>NaN</td>\n",
       "      <td>NaN</td>\n",
       "      <td>2019-03-13</td>\n",
       "      <td>flavioelilian@hotmail.com</td>\n",
       "    </tr>\n",
       "    <tr>\n",
       "      <th>7</th>\n",
       "      <td>NaN</td>\n",
       "      <td>NaN</td>\n",
       "      <td>3</td>\n",
       "      <td>AV</td>\n",
       "      <td>NaN</td>\n",
       "      <td>NaN</td>\n",
       "      <td>NaN</td>\n",
       "      <td>NaN</td>\n",
       "      <td>2019-03-13</td>\n",
       "      <td>NaN</td>\n",
       "    </tr>\n",
       "    <tr>\n",
       "      <th>10</th>\n",
       "      <td>NaN</td>\n",
       "      <td>NaN</td>\n",
       "      <td>4</td>\n",
       "      <td>GERARDO</td>\n",
       "      <td>NaN</td>\n",
       "      <td>NaN</td>\n",
       "      <td>NaN</td>\n",
       "      <td>NaN</td>\n",
       "      <td>2019-03-13</td>\n",
       "      <td>NaN</td>\n",
       "    </tr>\n",
       "    <tr>\n",
       "      <th>13</th>\n",
       "      <td>NaN</td>\n",
       "      <td>NaN</td>\n",
       "      <td>5</td>\n",
       "      <td>ARLEY</td>\n",
       "      <td>NaN</td>\n",
       "      <td>NaN</td>\n",
       "      <td>NaN</td>\n",
       "      <td>NaN</td>\n",
       "      <td>2019-03-13</td>\n",
       "      <td>NaN</td>\n",
       "    </tr>\n",
       "    <tr>\n",
       "      <th>...</th>\n",
       "      <td>...</td>\n",
       "      <td>...</td>\n",
       "      <td>...</td>\n",
       "      <td>...</td>\n",
       "      <td>...</td>\n",
       "      <td>...</td>\n",
       "      <td>...</td>\n",
       "      <td>...</td>\n",
       "      <td>...</td>\n",
       "      <td>...</td>\n",
       "    </tr>\n",
       "    <tr>\n",
       "      <th>319</th>\n",
       "      <td>NaN</td>\n",
       "      <td>NaN</td>\n",
       "      <td>107</td>\n",
       "      <td>JOÃO PAULO RIO DE JANEIRO</td>\n",
       "      <td>NaN</td>\n",
       "      <td>NaN</td>\n",
       "      <td>NaN</td>\n",
       "      <td>NaN</td>\n",
       "      <td>2025-01-15</td>\n",
       "      <td>NaN</td>\n",
       "    </tr>\n",
       "    <tr>\n",
       "      <th>322</th>\n",
       "      <td>NaN</td>\n",
       "      <td>NaN</td>\n",
       "      <td>108</td>\n",
       "      <td>PAULO RIO DE JAINEIRO</td>\n",
       "      <td>NaN</td>\n",
       "      <td>NaN</td>\n",
       "      <td>NaN</td>\n",
       "      <td>NaN</td>\n",
       "      <td>2025-01-27</td>\n",
       "      <td>NaN</td>\n",
       "    </tr>\n",
       "    <tr>\n",
       "      <th>325</th>\n",
       "      <td>NaN</td>\n",
       "      <td>NaN</td>\n",
       "      <td>109</td>\n",
       "      <td>CAIO MARCELO VIGHI VISCARD E CIA LT</td>\n",
       "      <td>NaN</td>\n",
       "      <td>NaN</td>\n",
       "      <td>NaN</td>\n",
       "      <td>NaN</td>\n",
       "      <td>2025-06-25</td>\n",
       "      <td>NaN</td>\n",
       "    </tr>\n",
       "    <tr>\n",
       "      <th>328</th>\n",
       "      <td>ANDREIA</td>\n",
       "      <td>64.0</td>\n",
       "      <td>110</td>\n",
       "      <td>AMERIPEL CARLOS</td>\n",
       "      <td>NaN</td>\n",
       "      <td>NaN</td>\n",
       "      <td>NaN</td>\n",
       "      <td>NaN</td>\n",
       "      <td>2025-06-26</td>\n",
       "      <td>NaN</td>\n",
       "    </tr>\n",
       "    <tr>\n",
       "      <th>329</th>\n",
       "      <td>EQUIPE VIP</td>\n",
       "      <td>NaN</td>\n",
       "      <td>0</td>\n",
       "      <td>EQUIPE VIP</td>\n",
       "      <td>NaN</td>\n",
       "      <td>NaN</td>\n",
       "      <td>NaN</td>\n",
       "      <td>NaN</td>\n",
       "      <td>NaT</td>\n",
       "      <td>NaN</td>\n",
       "    </tr>\n",
       "  </tbody>\n",
       "</table>\n",
       "<p>111 rows × 10 columns</p>\n",
       "</div>"
      ],
      "text/plain": [
       "       Nm supervisor  Cd supervisor  Cd Vendedor  \\\n",
       "1               ALDO            1.0            1   \n",
       "4    FLAVIO E LILIAN            2.0            2   \n",
       "7                NaN            NaN            3   \n",
       "10               NaN            NaN            4   \n",
       "13               NaN            NaN            5   \n",
       "..               ...            ...          ...   \n",
       "319              NaN            NaN          107   \n",
       "322              NaN            NaN          108   \n",
       "325              NaN            NaN          109   \n",
       "328          ANDREIA           64.0          110   \n",
       "329      EQUIPE VIP             NaN            0   \n",
       "\n",
       "                             Nm Vendedor Endereco Cd Uf Ds Regiao Bairro  \\\n",
       "1                                   ALDO      NaN   NaN     NORTE    NaN   \n",
       "4                        FLAVIO E LILIAN      NaN   NaN       NaN    NaN   \n",
       "7                                     AV      NaN   NaN       NaN    NaN   \n",
       "10                               GERARDO      NaN   NaN       NaN    NaN   \n",
       "13                                 ARLEY      NaN   NaN       NaN    NaN   \n",
       "..                                   ...      ...   ...       ...    ...   \n",
       "319            JOÃO PAULO RIO DE JANEIRO      NaN   NaN       NaN    NaN   \n",
       "322                PAULO RIO DE JAINEIRO      NaN   NaN       NaN    NaN   \n",
       "325  CAIO MARCELO VIGHI VISCARD E CIA LT      NaN   NaN       NaN    NaN   \n",
       "328                      AMERIPEL CARLOS      NaN   NaN       NaN    NaN   \n",
       "329                          EQUIPE VIP       NaN   NaN       NaN    NaN   \n",
       "\n",
       "    Dt Cadastro                     E Mail  \n",
       "1           NaT          acz7@terra.com.br  \n",
       "4    2019-03-13  flavioelilian@hotmail.com  \n",
       "7    2019-03-13                        NaN  \n",
       "10   2019-03-13                        NaN  \n",
       "13   2019-03-13                        NaN  \n",
       "..          ...                        ...  \n",
       "319  2025-01-15                        NaN  \n",
       "322  2025-01-27                        NaN  \n",
       "325  2025-06-25                        NaN  \n",
       "328  2025-06-26                        NaN  \n",
       "329         NaT                        NaN  \n",
       "\n",
       "[111 rows x 10 columns]"
      ]
     },
     "execution_count": 58,
     "metadata": {},
     "output_type": "execute_result"
    }
   ],
   "source": [
    "df_vendedores_masquerade = pd.read_excel(r'..\\Data\\01-01-23_08-07-25\\sh-vendedores_infosoft.xlsx')\n",
    "df_vendedores_masquerade = df_vendedores_masquerade[~pd.isna(df_vendedores_masquerade['Nm Vendedor'])]\n",
    "df_vendedores_masquerade['Cd Vendedor'] = df_vendedores_masquerade['Cd Vendedor'].astype(int) \n",
    "\n",
    "df_vendedores_masquerade"
   ]
  },
  {
   "cell_type": "markdown",
   "id": "bd3deef1",
   "metadata": {},
   "source": [
    "\n",
    "# 15 - faturamento completo mes ano, por \"produto\"\n",
    "\n"
   ]
  },
  {
   "cell_type": "code",
   "execution_count": null,
   "id": "23fa47cc",
   "metadata": {},
   "outputs": [],
   "source": [
    "''' mes / papelaria / mer_livre / sapatilha / eventos / modinha / puerilcultura / total \n",
    "\n",
    "total: / ....... /'''"
   ]
  },
  {
   "cell_type": "markdown",
   "id": "32ab3ad9",
   "metadata": {},
   "source": [
    "##  16 - faturameno completo mes indivdual separado (modelo)\n",
    "\n"
   ]
  },
  {
   "cell_type": "code",
   "execution_count": null,
   "id": "1d7cf200",
   "metadata": {},
   "outputs": [],
   "source": [
    "'''\n",
    "mes \n",
    "papelaria \n",
    " mer_livre \n",
    "sapatilha \n",
    "eventos \n",
    " modinha \n",
    "puerilcultura \n",
    "total \n",
    "'''"
   ]
  },
  {
   "cell_type": "code",
   "execution_count": null,
   "id": "e7c590a2",
   "metadata": {},
   "outputs": [],
   "source": [
    "# 1 preenchendo o modelo\n"
   ]
  },
  {
   "cell_type": "markdown",
   "id": "2e2e425f",
   "metadata": {},
   "source": [
    "# 05 - resumo de venda/faturamento - fechamento anual\n"
   ]
  },
  {
   "cell_type": "code",
   "execution_count": null,
   "id": "143884aa",
   "metadata": {},
   "outputs": [],
   "source": [
    "''' mes-ano / vendas / faturado \n",
    "total / .../ '''"
   ]
  },
  {
   "cell_type": "code",
   "execution_count": null,
   "id": "e6197e10",
   "metadata": {},
   "outputs": [
    {
     "name": "stderr",
     "output_type": "stream",
     "text": [
      "C:\\Users\\ADMIN\\AppData\\Local\\Temp\\ipykernel_3392\\1127894070.py:7: UserWarning: Parsing dates in %d/%m/%Y format when dayfirst=False (the default) was specified. Pass `dayfirst=True` or specify a format to silence this warning.\n",
      "  df_nfs['data'] = pd.to_datetime(df_nfs['data'])\n"
     ]
    }
   ],
   "source": [
    "# -- 1 - defines as bases de dados e trata certas colunas\n",
    "df_nfs = {\n",
    "    \n",
    "    'data': ['22/02/2025', '22/02/2024','22/02/2024','22/04/2025','22/05/2025'],\n",
    "    'valor': [1,2,3,4,5]\n",
    "}\n",
    "df_nfs = pd.DataFrame(df_nfs)\n",
    "df_nfs['data'] = pd.to_datetime(df_nfs['data'])\n",
    "# df_pedidos = pd.read_excel()\n",
    "\n",
    "# -- 2 -  defines as colunas do DataFrame\n",
    "colunas = ['mes-ano', 'vendas', 'faturamento']    \n",
    "df_faturamento_mes_ano = pd.DataFrame(columns=colunas)\n",
    "\n",
    "# -- 3 - pega os anos\n",
    "anos = [2022, 2023, 2024, 2025]\n",
    "\n",
    "# -- 4 - se o ano for valido, filtra por mes e atribui ao df principal\n",
    "dfs_por_ano = defaultdict(dict)\n",
    "for ano in anos: # posso usar df_nfs['data'].dt.year.unique() // que eu pego todos os anos da planilha\n",
    "    for mes in df_nfs['data'].dt.month.unique(): # epgo apenas os meses que exitem na planilha\n",
    "        df_nfs_mes = df_nfs[ # filtro\n",
    "            (df_nfs['data'].dt.year == ano) &\n",
    "            (df_nfs['data'].dt.month == mes) \n",
    "            ] \n",
    "        if not df_nfs_mes.empty: # ingnoro se estiver vazio\n",
    "            total = df_nfs_mes['valor'].sum()\n",
    "            dfs_por_ano[ano][mes] = total\n",
    "            "
   ]
  },
  {
   "cell_type": "markdown",
   "id": "71943328",
   "metadata": {},
   "source": [
    "# 09 - comissões por periodos\n",
    "\n"
   ]
  },
  {
   "cell_type": "code",
   "execution_count": 59,
   "id": "d290cc34",
   "metadata": {},
   "outputs": [
    {
     "data": {
      "text/plain": [
       "' \\nsupervisor\\nnm_vendedor\\ndata / nf / cliente / venda / faturado / aliquota / comissão / cliente_nv / total\\nnm_vendedor / faturado\\n3% supervisor / subtotal\\ntotal / \\n'"
      ]
     },
     "execution_count": 59,
     "metadata": {},
     "output_type": "execute_result"
    }
   ],
   "source": [
    "''' \n",
    "supervisor\n",
    "nm_vendedor\n",
    "data / nf / cliente / venda / faturado / aliquota / comissão / cliente_nv / total\n",
    "nm_vendedor / faturado\n",
    "3% supervisor / subtotal\n",
    "total / \n",
    "'''"
   ]
  },
  {
   "cell_type": "code",
   "execution_count": 60,
   "id": "592981e6",
   "metadata": {},
   "outputs": [
    {
     "name": "stderr",
     "output_type": "stream",
     "text": [
      "C:\\Users\\kwesz\\AppData\\Local\\Temp\\ipykernel_10172\\2796649900.py:9: FutureWarning: The behavior of DataFrame concatenation with empty or all-NA entries is deprecated. In a future version, this will no longer exclude empty or all-NA columns when determining the result dtypes. To retain the old behavior, exclude the relevant entries before the concat operation.\n",
      "  df_comission_raw = pd.concat([df_comission_raw,df_nfs], axis=0)\n",
      "C:\\Users\\kwesz\\AppData\\Local\\Temp\\ipykernel_10172\\2796649900.py:38: SettingWithCopyWarning: \n",
      "A value is trying to be set on a copy of a slice from a DataFrame.\n",
      "Try using .loc[row_indexer,col_indexer] = value instead\n",
      "\n",
      "See the caveats in the documentation: https://pandas.pydata.org/pandas-docs/stable/user_guide/indexing.html#returning-a-view-versus-a-copy\n",
      "  df_clientes_novos['cliente_nv'] = 20\n"
     ]
    }
   ],
   "source": [
    "# -- 1 - defino as coluas de nossa df bruta e trago as df necessrias para o relatorio \n",
    "df_comission_raw = pd.DataFrame(columns=['Clie Cgc Cpf','Dt. emissão', 'Nr. nota', 'Cd Vendedor', 'Vl Total Nota', 'aliquota', 'comissao', 'total'])\n",
    "df_vendedores = df_vendedores_masquerade.copy() # para pegar o vendedor\n",
    "df_clientes = df_clientes_masquerade.copy() # para pegar o cliente\n",
    "df_pedidos = df_pedidos_masquerade.copy() # para pegar os pedidos\n",
    "df_nfs = df_nfs_masquerade[['Dt. emissão', 'Nr. nota','Nr Pedido', 'Clie Cgc Cpf', 'Cd Vendedor', 'Vl Total Nota']]\n",
    "\n",
    "# -- 1 - atribuindo infos das nfs \n",
    "df_comission_raw = pd.concat([df_comission_raw,df_nfs], axis=0)\n",
    "\n",
    "# -- 2 - defininido o periodo (mes e ano) e filtrando nossa df\n",
    "ano = 2025\n",
    "mes = 6\n",
    "df_comission_raw = df_comission_raw[(df_comission_raw['Dt. emissão'].dt.year == ano) & \n",
    "                (df_comission_raw['Dt. emissão'].dt.month == mes)]\n",
    "\n",
    "# -- 3 - fazer um semi join (pega apegas nfs que tivrem com cd vendedor) - por preucação\n",
    "df_comission_raw = df_comission_raw[df_comission_raw['Cd Vendedor'].isin(df_vendedores['Cd Vendedor'])] #  pandas não tem suporte direto para semi join o jeito a epanas filtrar oque e muito pratico!\n",
    "\n",
    "# -- 4 - fazer merge para epgar o nome dos vendedores pelo cod, posteriormente pegar o supervisor e aliquota tambem \n",
    "df_comission_raw['aliquota'] = 7 # temporario\n",
    "df_comission_raw = df_comission_raw.merge(df_vendedores[['Cd Vendedor', 'Nm Vendedor','Nm supervisor']], \n",
    "                             on='Cd Vendedor', how='left')\n",
    "\n",
    "# -- 5 - fazer merge para pegar o nome do cliente (left join em duas colunas basicamente..)\n",
    "df_comission_raw = df_comission_raw.merge(df_clientes[['Clie Cgc Cpf', 'Descrição']],\n",
    "                      on='Clie Cgc Cpf', how='left')\n",
    "\n",
    "# -- 6 - merge para pegar o valor do pedido\n",
    "df_comission_raw = df_comission_raw.merge(df_pedidos[['Nr Pedido', 'Vl venda']],\n",
    "                      on='Nr Pedido', how='left')\n",
    "\n",
    "# -- 7 -  definindo comissão a ser recebida \n",
    "df_comission_raw['comissao'] = df_comission_raw['Vl Total Nota']*(df_comission_raw['aliquota']/100)\n",
    "\n",
    "# -- 8 - definindo clientes novos\n",
    "df_clientes_novos = df_clientes[df_clientes['Dt Cadastro'] > datetime(ano, mes, 1)]\n",
    "df_clientes_novos['cliente_nv'] = 20\n",
    "\n",
    "# -- 9 - fazendo merge para atribuir os clientes novos \n",
    "df_comission_raw = df_comission_raw.merge(df_clientes_novos[['Clie Cgc Cpf', 'cliente_nv']],\n",
    "                      on='Clie Cgc Cpf', how='left', suffixes=('_raw','_new'))\n",
    "\n",
    "# -- 10 - definindo comissão total \n",
    "df_comission_raw['total'] = df_comission_raw['cliente_nv'].fillna(0)+df_comission_raw['comissao'].fillna(0)\n",
    "\n",
    "# --  - atribuindo informações a nossa df bruta\n"
   ]
  },
  {
   "cell_type": "code",
   "execution_count": 61,
   "id": "5cedc199",
   "metadata": {},
   "outputs": [],
   "source": [
    "df_comission = df_comission_raw[['Nm supervisor', 'Nm Vendedor','Dt. emissão', 'Nr. nota','Descrição','Vl venda', 'Vl Total Nota','aliquota','comissao','cliente_nv','total']]\n",
    "\n"
   ]
  }
 ],
 "metadata": {
  "kernelspec": {
   "display_name": "Python 3",
   "language": "python",
   "name": "python3"
  },
  "language_info": {
   "codemirror_mode": {
    "name": "ipython",
    "version": 3
   },
   "file_extension": ".py",
   "mimetype": "text/x-python",
   "name": "python",
   "nbconvert_exporter": "python",
   "pygments_lexer": "ipython3",
   "version": "3.10.11"
  }
 },
 "nbformat": 4,
 "nbformat_minor": 5
}
