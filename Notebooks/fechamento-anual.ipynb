{
 "cells": [
  {
   "cell_type": "markdown",
   "metadata": {},
   "source": [
    "# 05 - resumo de venda/faturamento - fechamento anual\n"
   ]
  },
  {
   "cell_type": "code",
   "execution_count": null,
   "metadata": {},
   "outputs": [],
   "source": [
    "''' mes-ano / vendas / faturado \n",
    "total / .../ '''"
   ]
  },
  {
   "cell_type": "code",
   "execution_count": null,
   "metadata": {},
   "outputs": [],
   "source": [
    "# -- 1 - defines as bases de dados e trata certas colunas\n",
    "df_nfs = df_nfs_masquerade[['Vl Total Nota','Dt. emissão']]\n",
    "df_pedidos = df_pedidos_masquerade[['Vl venda','Dt. emissão']]\n",
    "\n",
    "# -- 2 - pega os anos\n",
    "anos = [2024, 2025]\n",
    "\n",
    "# -- 3 - filtra com base nos anos e deixa penas o mes e o ano \n",
    "df_pedidos = df_pedidos[ # filtro\n",
    "            (df_pedidos['Dt. emissão'].dt.year == anos[0]) |\n",
    "            (df_pedidos['Dt. emissão'].dt.year == anos[1]) \n",
    "            ] \n",
    "\n",
    "df_nfs = df_nfs[ # filtro\n",
    "            (df_nfs['Dt. emissão'].dt.year == anos[0]) |\n",
    "            (df_nfs['Dt. emissão'].dt.year == anos[1]) \n",
    "            ] \n",
    "\n",
    "# -- 4 - trandorma em mes-ano\n",
    "df_pedidos['Dt. emissão'] = df_pedidos['Dt. emissão'].dt.to_period('M')\n",
    "df_nfs['Dt. emissão'] = df_nfs['Dt. emissão'].dt.to_period('M')\n",
    "\n",
    "# -- 5 - Agrupa por mês e soma os valores\n",
    "vendas_mensal = df_pedidos.groupby('Dt. emissão')['Vl venda'].sum().reset_index()\n",
    "faturado_mensal = df_nfs.groupby('Dt. emissão')['Vl Total Nota'].sum().reset_index()\n",
    "\n",
    "# -- 7 -  mergga os dois DataFrames pela coluna 'Dt. emissão'\n",
    "df_raw_mes_ano = pd.merge(\n",
    "    vendas_mensal,\n",
    "    faturado_mensal,\n",
    "    on='Dt. emissão',\n",
    "    how='outer'  # inclui meses que têm apenas vendas ou apenas faturamento\n",
    ").fillna(0)\n",
    "\n",
    "# -- 8 - Ordena pelo mês-ano corretamente\n",
    "df_raw_mes_ano = df_raw_mes_ano.sort_values('Dt. emissão')\n",
    "\n",
    "# -- 9 - mud o nome ds colunas\n",
    "df_raw_mes_ano.columns = ['mes-ano', 'venda', 'faturado']\n",
    "\n",
    "total_2024_faturado = df_raw_mes_ano['faturado'].sum()\n",
    "total_2024_venda = df_raw_mes_ano['venda'].sum()\n",
    "\n",
    "print(f'2024 - total:\\n faturado | venda \\n {total_2024_faturado} | {total_2024_venda} ')\n",
    "df_raw_mes_ano"
   ]
  }
 ],
 "metadata": {
  "kernelspec": {
   "display_name": "Python 3",
   "language": "python",
   "name": "python3"
  },
  "language_info": {
   "name": "python",
   "version": "3.12.4"
  }
 },
 "nbformat": 4,
 "nbformat_minor": 2
}
