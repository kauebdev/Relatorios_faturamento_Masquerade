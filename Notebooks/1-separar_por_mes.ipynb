{
 "cells": [
  {
   "cell_type": "code",
   "execution_count": 11,
   "metadata": {},
   "outputs": [],
   "source": [
    "import pandas as pd\n",
    "import os\n",
    "\n",
    "file = 'sh-pedidos-bling.xlsx'\n",
    "path = fr'C:\\Users\\MSI\\OneDrive\\Desktop\\faturamento masquerade\\Relatorios_faturamento_Masquerade\\Data\\{file}'\n",
    "data_col = 'Data'\n",
    "\n",
    "df = pd.read_excel(path)\n",
    "df[data_col] = pd.to_datetime(df[data_col], dayfirst=True) \n",
    "\n",
    "df['mes'] = df[data_col].dt.month\n",
    "df['ano'] = df[data_col].dt.year\n",
    "\n",
    "df = df[df['ano'] == 2025]\n",
    "\n",
    "dfs_por_mes = {}\n",
    "\n",
    "for mes in sorted(df['mes'].unique()):\n",
    "    nome = f'df_{mes:02d}'\n",
    "    df_mes = df[df['mes'] == mes]\n",
    "    dfs_por_mes[nome] = df_mes\n",
    "\n",
    "    pasta_saida = fr\"..\\Data\\BRUTOS-2025\\{mes:02d}-2025\"\n",
    "    os.makedirs(pasta_saida, exist_ok=True)\n",
    "\n",
    "    df_mes.to_excel(os.path.join(pasta_saida, file), index=False)\n"
   ]
  }
 ],
 "metadata": {
  "kernelspec": {
   "display_name": "Python 3",
   "language": "python",
   "name": "python3"
  },
  "language_info": {
   "codemirror_mode": {
    "name": "ipython",
    "version": 3
   },
   "file_extension": ".py",
   "mimetype": "text/x-python",
   "name": "python",
   "nbconvert_exporter": "python",
   "pygments_lexer": "ipython3",
   "version": "3.12.4"
  }
 },
 "nbformat": 4,
 "nbformat_minor": 2
}
