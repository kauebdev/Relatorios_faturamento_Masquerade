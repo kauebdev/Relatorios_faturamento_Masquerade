{
 "cells": [
  {
   "cell_type": "markdown",
   "metadata": {},
   "source": [
    "\n",
    "# 15 - faturamento completo mes ano, por \"produto\"\n",
    "\n",
    "\n",
    "''' mes / papelaria / mer_livre / sapatilha / eventos / modinha / puerilcultura / total \n",
    "\n",
    "total: / ....... /'''\n"
   ]
  }
 ],
 "metadata": {
  "language_info": {
   "name": "python"
  }
 },
 "nbformat": 4,
 "nbformat_minor": 2
}
