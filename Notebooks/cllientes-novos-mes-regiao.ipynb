{
 "cells": [
  {
   "cell_type": "code",
   "execution_count": null,
   "metadata": {
    "vscode": {
     "languageId": "plaintext"
    }
   },
   "outputs": [],
   "source": []
  },
  {
   "cell_type": "markdown",
   "metadata": {},
   "source": [
    "# 01 - clientes novos por regiao por periodo r\n"
   ]
  },
  {
   "cell_type": "code",
   "execution_count": null,
   "metadata": {
    "vscode": {
     "languageId": "plaintext"
    }
   },
   "outputs": [],
   "source": [
    "''' mes / centro oeste / ...... / sul / total\n",
    "total / ..... /  '''"
   ]
  },
  {
   "cell_type": "code",
   "execution_count": null,
   "metadata": {
    "vscode": {
     "languageId": "plaintext"
    }
   },
   "outputs": [],
   "source": [
    "\n",
    "\n",
    "# -- 1 - definindo dfs e colunas\n",
    "df_clientes = df_clientes_masquerade[['Cd Uf','Nm Cidade','Dt Cadastro']]\n",
    "df_estados_regiões = pd.DataFrame(estados_regiões)\n",
    "df_novos = ['regiao', 'Nm cidade', 'Quant']\n",
    "\n",
    "# -- 2 - definindo a região \n",
    "df_clientes = df_clientes.merge(df_estados_regiões[['Cd Uf', 'Região']],\n",
    "                                on='Cd Uf', how='left' )\n",
    "\n",
    "# -- 3 definindo periodo \n",
    "anos_meses = {2024: [1,2,3,4,5,6,8,9,10,11,12],\n",
    "        2025: [1,2,3,4,5,6]}\n",
    "\n",
    "# -- 4 - filtrando pelo peridodo\n",
    "dados = [] # paera pord4er atribuir tudo depois \n",
    "\n",
    "for ano, meses in anos_meses.items():\n",
    "    for mes in meses:\n",
    "        primeiro_dia = datetime(ano, mes, 1)\n",
    "        ultimo_dia = (primeiro_dia + relativedelta(months=1)) - relativedelta(days=1)\n",
    "        \n",
    "        df_novos_raw = df_clientes[\n",
    "            (df_clientes['Dt Cadastro'] >= primeiro_dia) & \n",
    "            (df_clientes['Dt Cadastro'] <= ultimo_dia)\n",
    "        ]\n",
    "\n",
    "        for index, row in df_novos_raw.iterrows():\n",
    "            dados.append({\n",
    "                \"Ano\": ano,\n",
    "                \"Mês\": mes,\n",
    "                \"Nm Cidade\" : row['Nm Cidade'],\n",
    "                \"Região\": row[\"Região\"]\n",
    "                 })\n",
    "\n",
    "df_novos_raw = pd.DataFrame(dados)\n",
    "df_novos_raw['Periodo'] = df_novos_raw['Ano'].astype(str) + '-' + df_novos_raw['Mês'].astype(str).str.zfill(2)\n",
    "\n",
    "df_novos_2024 = df_novos_raw[df_novos_raw['Ano'] == 2024]\n",
    "df_novos_2024.drop(columns=['Ano','Mês'], inplace=True)\n",
    "df_novos_2024.groupby('Periodo')['Região'].count() .sum()"
   ]
  },
  {
   "cell_type": "code",
   "execution_count": null,
   "metadata": {
    "vscode": {
     "languageId": "plaintext"
    }
   },
   "outputs": [],
   "source": [
    "# === 1. Leitura dos dados ===\n",
    "df_sonia_emanu = pd.read_excel('emauel_sonia.xlsx')\n",
    "# === 2. Garantir que a coluna de data está no formato datetime ===\n",
    "df_nfs_masquerade['Dt. emissão'] = pd.to_datetime(df_nfs_masquerade['Dt. emissão'], errors='coerce')\n",
    "\n",
    "# === 3. Definir a data limite para os \"últimos 3 meses\" (ex: a partir de fevereiro/2025) ===\n",
    "data_limite = pd.Timestamp('2025-02-01')\n",
    "\n",
    "# === 4. Identificar CPFs com nota fiscal emitida após a data limite ===\n",
    "clientes_com_nf_recent = df_nfs_masquerade[\n",
    "    df_nfs_masquerade['Dt. emissão'] >= data_limite\n",
    "]['Clie Cgc Cpf'].unique()\n",
    "\n",
    "# === 5. Filtrar df_sonia_emanu: manter apenas quem NÃO comprou após a data limite ===\n",
    "df_sonia_emanu_sem_nf_recent = df_sonia_emanu[\n",
    "    ~df_sonia_emanu['Cgc Cpf'].isin(clientes_com_nf_recent)\n",
    "]\n",
    "\n",
    "# === 6. Obter a data da última compra de cada cliente (mesmo que antiga) ===\n",
    "ultima_compra = df_nfs_masquerade.groupby('Clie Cgc Cpf')['Dt. emissão'].max().reset_index()\n",
    "ultima_compra.rename(columns={'Dt. emissão': 'Dt. última compra'}, inplace=True)\n",
    "\n",
    "# === 7. Juntar a última compra no DataFrame filtrado ===\n",
    "df_sonia_emanu_sem_nf_recent = df_sonia_emanu_sem_nf_recent.merge(\n",
    "    ultima_compra,\n",
    "    how='left',\n",
    "    left_on='Cgc Cpf',\n",
    "    right_on='Clie Cgc Cpf'\n",
    ")\n",
    "\n",
    "# === 8. Limpar colunas duplicadas do merge (opcional) ===\n",
    "df_sonia_emanu_sem_nf_recent.drop(columns=['Clie Cgc Cpf'], inplace=True)\n",
    "\n",
    "# === 9. Exportar para Excel ===\n",
    "df_sonia_emanu_sem_nf_recent.to_excel('emauel_sonia2.xlsx', index=False)"
   ]
  },
  {
   "cell_type": "code",
   "execution_count": null,
   "metadata": {
    "vscode": {
     "languageId": "plaintext"
    }
   },
   "outputs": [],
   "source": [
    "# Caminho do relatório\n",
    "path_relatorio = r\"G:\\Meu Drive\\MASQUERADE\\FINANCEIRO\\RELATORIOS\\CLIENTES-NOVOS\\clientes_novos_região_08-2024_06-2025.xlsx\"\n",
    "workbook = xlsxwriter.Workbook(path_relatorio)\n",
    "worksheet = workbook.add_worksheet('Relatório')\n",
    "\n",
    "# Linha inicial\n",
    "linha = 0\n",
    "\n",
    "# Estilos\n",
    "titulo = workbook.add_format({\n",
    "    'bold': True, \n",
    "    'bg_color': \"#A7A7A7\", \n",
    "    'border': 6,\n",
    "    'align': 'center', 'valign': 'vcenter'\n",
    "})\n",
    "cols = workbook.add_format({\n",
    "    'border': 6, \n",
    "    'bold': True,\n",
    "    'bg_color': \"#72AC76\", \n",
    "    'align': 'center', 'valign': 'vcenter'\n",
    "})\n",
    "infos = workbook.add_format({\n",
    "    'border': 2, \n",
    "    'align': 'center', 'valign': 'vcenter'\n",
    "})\n",
    "\n",
    "# Cabeçalho principal\n",
    "worksheet.merge_range(\"A1:H1\", \"RELATÓRIO DE CLIENTES NOVOS POR REGIÃO - 2024 - 2025\", titulo)\n",
    "linha += 2\n",
    "\n",
    "# ---- Preparação dos dados\n",
    "\n",
    "# Pivot\n",
    "df_pivot = df_novos_raw.pivot_table(index='Periodo', columns='Região', aggfunc='size', fill_value=0)\n",
    "\n",
    "# Garante todas as regiões\n",
    "regioes = ['Centro-Oeste', 'Nordeste', 'Norte', 'Sudeste', 'Sul']\n",
    "for reg in regioes:\n",
    "    if reg not in df_pivot.columns:\n",
    "        df_pivot[reg] = 0\n",
    "\n",
    "df_pivot = df_pivot[regioes]\n",
    "df_pivot['Total'] = df_pivot.sum(axis=1)\n",
    "df_pivot.reset_index(inplace=True)\n",
    "\n",
    "# Filtra por ano\n",
    "df_2024 = df_pivot[df_pivot['Periodo'].str.startswith('2024')]\n",
    "df_2025 = df_pivot[df_pivot['Periodo'].str.startswith('2025')]\n",
    "\n",
    "headers = ['Período'] + regioes + ['Total']\n",
    "\n",
    "# Função para escrever DataFrame\n",
    "def escrever_df(worksheet, df, linha, format_info):\n",
    "    for _, row in df.iterrows():\n",
    "        for col, colname in enumerate(df.columns):\n",
    "            worksheet.write(linha, col, row[colname], format_info)\n",
    "        linha += 1\n",
    "    return linha\n",
    "\n",
    "# ---------- BLOCO 2024 ----------\n",
    "worksheet.write(linha, 0, \"2024\", titulo)\n",
    "linha += 1\n",
    "\n",
    "for col, header in enumerate(headers):\n",
    "    worksheet.write(linha, col, header, cols)\n",
    "linha += 1\n",
    "\n",
    "linha = escrever_df(worksheet, df_2024, linha, infos)\n",
    "\n",
    "totais_2024 = df_2024[regioes + ['Total']].sum()\n",
    "worksheet.write(linha, 0, 'Total 2024', cols)\n",
    "for col, val in enumerate(totais_2024, start=1):\n",
    "    worksheet.write(linha, col, val, infos)\n",
    "linha += 2\n",
    "\n",
    "# ---------- BLOCO 2025 ----------\n",
    "worksheet.write(linha, 0, \"2025\", titulo)\n",
    "linha += 1\n",
    "\n",
    "for col, header in enumerate(headers):\n",
    "    worksheet.write(linha, col, header, cols)\n",
    "linha += 1\n",
    "\n",
    "linha = escrever_df(worksheet, df_2025, linha, infos)\n",
    "\n",
    "totais_2025 = df_2025[regioes + ['Total']].sum()\n",
    "worksheet.write(linha, 0, 'Total 2025', cols)\n",
    "for col, val in enumerate(totais_2025, start=1):\n",
    "    worksheet.write(linha, col, val, infos)\n",
    "\n",
    "# Finaliza o arquivo\n",
    "workbook.close()\n"
   ]
  }
 ],
 "metadata": {
  "language_info": {
   "name": "python"
  }
 },
 "nbformat": 4,
 "nbformat_minor": 2
}
