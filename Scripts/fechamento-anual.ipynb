{
 "cells": [
  {
   "cell_type": "markdown",
   "metadata": {},
   "source": [
    "# 05 - resumo de venda/faturamento - fechamento anual\n"
   ]
  },
  {
   "cell_type": "code",
   "execution_count": 1,
   "metadata": {},
   "outputs": [
    {
     "data": {
      "text/plain": [
       "' mes-ano / vendas / faturado \\ntotal / .../ '"
      ]
     },
     "execution_count": 1,
     "metadata": {},
     "output_type": "execute_result"
    }
   ],
   "source": [
    "''' mes-ano / vendas / faturado \n",
    "total / .../ '''"
   ]
  },
  {
   "cell_type": "code",
   "execution_count": 1,
   "metadata": {},
   "outputs": [
    {
     "name": "stdout",
     "output_type": "stream",
     "text": [
      "2024 - total:\n",
      " faturado | venda \n",
      " 139288.42 | 135198.7 \n",
      "✅ Relatório salvo em: resource/fechamento-anual/2025\\06\\fechamento-anual.xlsx\n"
     ]
    },
    {
     "name": "stderr",
     "output_type": "stream",
     "text": [
      "C:\\Users\\ADMIN\\AppData\\Local\\Temp\\ipykernel_13020\\3488145195.py:85: FutureWarning: The behavior of DataFrame concatenation with empty or all-NA entries is deprecated. In a future version, this will no longer exclude empty or all-NA columns when determining the result dtypes. To retain the old behavior, exclude the relevant entries before the concat operation.\n",
      "  df_final = pd.concat([df_final, nova_linha], ignore_index=True)\n"
     ]
    }
   ],
   "source": [
    "import os,sys\n",
    "current_dir = os.getcwd()\n",
    "\n",
    "# muda o diretorio para o projeto --\n",
    "# isso é necessario para que o python consiga importar os modulos do projeto\n",
    "# caso contrario, ele nao consegue achar os modulos\n",
    "project_root = os.path.join(current_dir, '..')\n",
    "sys.path.append(project_root)\n",
    "import pandas as pd\n",
    "from Scripts.Reads import ReadRaw, ReadConfigs\n",
    "from Scripts.Padronizes import PadronizeProdutos\n",
    "os.chdir(\"..\")\n",
    "\n",
    "ano, mes = ReadConfigs()\n",
    "\n",
    "# -- 1 - defines as bases de dados e trata certas colunas\n",
    "df_nfs, _ = ReadRaw(['sh-nfs_final.xlsx'])\n",
    "df_nfs = df_nfs[['Vl Total Nota', 'Dt. emissão']]  # seleciona só as colunas necessárias\n",
    "\n",
    "df_pedidos, _ = ReadRaw(['sh-pedidos_final.xlsx'])\n",
    "df_pedidos = df_pedidos[['Vl venda', 'Dt. emissão']]\n",
    "\n",
    "# -- 4 - trandorma em mes-ano\n",
    "df_pedidos['Dt. emissão'] = df_pedidos['Dt. emissão'].dt.to_period('M')\n",
    "df_nfs['Dt. emissão'] = df_nfs['Dt. emissão'].dt.to_period('M')\n",
    "\n",
    "# -- 5 - Agrupa por mês e soma os valores\n",
    "vendas_mensal = df_pedidos.groupby('Dt. emissão')['Vl venda'].sum().reset_index()\n",
    "faturado_mensal = df_nfs.groupby('Dt. emissão')['Vl Total Nota'].sum().reset_index()\n",
    "\n",
    "# -- 7 -  mergga os dois DataFrames pela coluna 'Dt. emissão'\n",
    "df_raw_mes_ano = pd.merge(\n",
    "    vendas_mensal,\n",
    "    faturado_mensal,\n",
    "    on='Dt. emissão',\n",
    "    how='outer'  # inclui meses que têm apenas vendas ou apenas faturamento\n",
    ").fillna(0)\n",
    "\n",
    "# -- 9 - mud o nome ds colunas\n",
    "df_raw_mes_ano.columns = ['mes-ano', 'venda', 'faturado']\n",
    "\n",
    "total_mes_faturado = df_raw_mes_ano['faturado'].sum()\n",
    "total_mes_venda = df_raw_mes_ano['venda'].sum()\n",
    "\n",
    "print(f'2024 - total:\\n faturado | venda \\n {total_mes_faturado} | {total_mes_venda} ')\n",
    "\n",
    "\n",
    "import os\n",
    "import pandas as pd\n",
    "\n",
    "def salvar_relatorio_fechamento(df_raw_mes_ano):\n",
    "    # Diretório onde o arquivo final será salvo\n",
    "    base_path = f'resource/fechamento-anual/{ano}'\n",
    "    nome_arquivo = 'fechamento-anual.xlsx'\n",
    "    colunas = ['mes-ano', 'venda', 'faturado', 'ultimo']\n",
    "    \n",
    "    # Cria nova linha (filtra apenas o mês atual do df)\n",
    "    mes_str = f'{ano}-{mes:02d}'\n",
    "    linha_nova = df_raw_mes_ano[df_raw_mes_ano['mes-ano'] == mes_str]\n",
    "    if linha_nova.empty:\n",
    "        raise ValueError(f\"Nenhum dado encontrado para {mes_str} no df_raw_mes_ano.\")\n",
    "    \n",
    "    nova_linha = linha_nova.copy()\n",
    "    nova_linha['ultimo'] = True\n",
    "\n",
    "    # Caminho da pasta do mês anterior\n",
    "    mes_anterior = mes - 1\n",
    "    df_final = None\n",
    "    if mes_anterior >= 1:\n",
    "        pasta_anterior = os.path.join(base_path, f'{mes_anterior:02d}')\n",
    "        arquivo_anterior = os.path.join(pasta_anterior, nome_arquivo)\n",
    "\n",
    "        if os.path.exists(arquivo_anterior):\n",
    "            df_ant = pd.read_excel(arquivo_anterior)\n",
    "            if 'ultimo' in df_ant.columns:\n",
    "                df_ant['ultimo'] = df_ant['ultimo'].fillna(False)\n",
    "                idx_true = df_ant[df_ant['ultimo'] == True].index\n",
    "                if not idx_true.empty:\n",
    "                    df_ant.loc[idx_true, 'ultimo'] = False\n",
    "            df_final = pd.concat([df_ant, nova_linha], ignore_index=True)\n",
    "\n",
    "    # Se não tem mês anterior ou arquivo não existe\n",
    "    if df_final is None:\n",
    "        df_final = pd.DataFrame(columns=colunas)\n",
    "        df_final = pd.concat([df_final, nova_linha], ignore_index=True)\n",
    "\n",
    "    # Criar pasta do mês atual\n",
    "    pasta_atual = os.path.join(base_path, f'{mes:02d}')\n",
    "    os.makedirs(pasta_atual, exist_ok=True)\n",
    "    caminho_saida = os.path.join(pasta_atual, nome_arquivo)\n",
    "\n",
    "    # Escrever com xlsxwriter\n",
    "    with pd.ExcelWriter(caminho_saida, engine='xlsxwriter') as writer:\n",
    "        df_final.to_excel(writer, index=False, sheet_name='FECHAMENTO')\n",
    "        \n",
    "        worksheet = writer.sheets['FECHAMENTO']\n",
    "        total_row = len(df_final) + 1  # +1 cabeçalho\n",
    "\n",
    "    print(f\"✅ Relatório salvo em: {caminho_saida}\")\n",
    "salvar_relatorio_fechamento(df_raw_mes_ano)"
   ]
  },
  {
   "cell_type": "code",
   "execution_count": null,
   "metadata": {},
   "outputs": [],
   "source": []
  }
 ],
 "metadata": {
  "kernelspec": {
   "display_name": "Python 3",
   "language": "python",
   "name": "python3"
  },
  "language_info": {
   "codemirror_mode": {
    "name": "ipython",
    "version": 3
   },
   "file_extension": ".py",
   "mimetype": "text/x-python",
   "name": "python",
   "nbconvert_exporter": "python",
   "pygments_lexer": "ipython3",
   "version": "3.10.8"
  }
 },
 "nbformat": 4,
 "nbformat_minor": 2
}
